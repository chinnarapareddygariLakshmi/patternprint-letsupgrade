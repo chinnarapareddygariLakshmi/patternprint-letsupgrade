{
 "cells": [
  {
   "cell_type": "code",
   "execution_count": 1,
   "metadata": {},
   "outputs": [
    {
     "name": "stdout",
     "output_type": "stream",
     "text": [
      "enter the sentencehello welcome to the world\n",
      "hello welcome to the world\n",
      "number of vowels in given sentence is 8\n"
     ]
    }
   ],
   "source": [
    "#counting the vowels\n",
    "sentence=input(\"enter the sentence\")\n",
    "string=sentence.lower()\n",
    "print(string)\n",
    "count=0\n",
    "list1=[\"a\",\"e\",\"i\",\"o\",\"u\"]\n",
    "for char in string:\n",
    "    if char in list1:\n",
    "        count=count+1\n",
    "print(\"number of vowels in given sentence is\",count)"
   ]
  },
  {
   "cell_type": "code",
   "execution_count": 2,
   "metadata": {},
   "outputs": [
    {
     "name": "stdout",
     "output_type": "stream",
     "text": [
      "enter line of stringhello how are you please\n",
      "largest string length 6\n"
     ]
    }
   ],
   "source": [
    "#largest string length\n",
    "na=input(\"enter line of string\")\n",
    "n=na.split()\n",
    "largest=len(n[0])\n",
    "for i in n:\n",
    "    if len(i)>largest:\n",
    "        largest=len(i)\n",
    "print(\"largest string length\",largest)"
   ]
  },
  {
   "cell_type": "code",
   "execution_count": 3,
   "metadata": {},
   "outputs": [
    {
     "name": "stdout",
     "output_type": "stream",
     "text": [
      "[1, 4, 5, 3, 2]\n"
     ]
    }
   ],
   "source": [
    "#unique list\n",
    "list=[1,4,5,3,2,3,4,5,4]\n",
    "unique_list=[]\n",
    "for a in list:\n",
    "    if a not in unique_list:\n",
    "        unique_list.append(a)\n",
    "print(unique_list)\n"
   ]
  },
  {
   "cell_type": "code",
   "execution_count": null,
   "metadata": {},
   "outputs": [],
   "source": []
  }
 ],
 "metadata": {
  "kernelspec": {
   "display_name": "Python 3",
   "language": "python",
   "name": "python3"
  },
  "language_info": {
   "codemirror_mode": {
    "name": "ipython",
    "version": 3
   },
   "file_extension": ".py",
   "mimetype": "text/x-python",
   "name": "python",
   "nbconvert_exporter": "python",
   "pygments_lexer": "ipython3",
   "version": "3.8.3"
  }
 },
 "nbformat": 4,
 "nbformat_minor": 4
}
