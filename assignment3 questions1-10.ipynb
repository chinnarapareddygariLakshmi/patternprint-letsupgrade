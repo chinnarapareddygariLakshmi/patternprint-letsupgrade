{
 "cells": [
  {
   "cell_type": "markdown",
   "metadata": {},
   "source": [
    "# Assignment 3\n"
   ]
  },
  {
   "cell_type": "code",
   "execution_count": 3,
   "metadata": {},
   "outputs": [
    {
     "name": "stdout",
     "output_type": "stream",
     "text": [
      "enter first number3\n",
      "enter second number2\n",
      "enter third number1\n",
      "number1 is maximum\n"
     ]
    }
   ],
   "source": [
    "#to find max of three numbers\n",
    "n1=input(\"enter first number\")\n",
    "n2=input(\"enter second number\")\n",
    "n3=input(\"enter third number\")\n",
    "n1=int(n1)\n",
    "n2=int(n2)\n",
    "n3=int(n3)\n",
    "if n1>n2 and n1>n3:\n",
    "    print(\"number1 is maximum\")\n",
    "elif n2>n1 and n2>n3:\n",
    "    print(\"number2 is maximum\")\n",
    "else:\n",
    "    print(\"number 3 is maximum\")\n"
   ]
  },
  {
   "cell_type": "code",
   "execution_count": 4,
   "metadata": {},
   "outputs": [
    {
     "name": "stdout",
     "output_type": "stream",
     "text": [
      "enter a stringmadam\n",
      "palindrome\n"
     ]
    }
   ],
   "source": [
    "#palindrome or not\n",
    "s=input(\"enter a string\")\n",
    "#print(s[:])\n",
    "#print(s[0:5])\n",
    "#print(s[0:5:1])\n",
    "#print(s[::])\n",
    "revstr=(s[::-1])\n",
    "if revstr==s:\n",
    "    print(\"palindrome\")\n",
    "else:\n",
    "    print(\"not palindrome\")\n",
    "        "
   ]
  },
  {
   "cell_type": "code",
   "execution_count": 5,
   "metadata": {},
   "outputs": [
    {
     "name": "stdout",
     "output_type": "stream",
     "text": [
      "enter any stringHello Students\n",
      "entered string is Hello Students\n",
      "lower case letters 11\n",
      "upper case letters 2\n"
     ]
    }
   ],
   "source": [
    "#number of uppercase and lowercase letters in string\n",
    "def FUN(STR):\n",
    "    print(\"entered string is\",STR)\n",
    "    n1=0\n",
    "    n2=0\n",
    "    for i in STR:\n",
    "        if i.islower():\n",
    "            n1=n1+1\n",
    "        elif i.isupper():\n",
    "            n2=n2+1\n",
    "    print(\"lower case letters\",n1)\n",
    "    print(\"upper case letters\",n2)\n",
    "S=str(input(\"enter any string\"))\n",
    "FUN(S)\n"
   ]
  },
  {
   "cell_type": "code",
   "execution_count": 7,
   "metadata": {},
   "outputs": [
    {
     "name": "stdout",
     "output_type": "stream",
     "text": [
      "6\n"
     ]
    }
   ],
   "source": [
    "#sum of numbers in list\n",
    "def sum_list(items):\n",
    "    sum_numbers=0\n",
    "    for x in items:\n",
    "        sum_numbers +=x\n",
    "    return sum_numbers\n",
    "print(sum_list([1,2,3]))\n",
    "        "
   ]
  },
  {
   "cell_type": "code",
   "execution_count": 8,
   "metadata": {},
   "outputs": [
    {
     "name": "stdout",
     "output_type": "stream",
     "text": [
      "product of the numbers  6\n"
     ]
    }
   ],
   "source": [
    "#multiply numbers in list\n",
    "from functools import reduce\n",
    "nums=[1,2,3]\n",
    "nums_product=reduce((lambda x,y:x*y),nums)\n",
    "print(\"product of the numbers \",nums_product)"
   ]
  },
  {
   "cell_type": "code",
   "execution_count": 14,
   "metadata": {},
   "outputs": [
    {
     "name": "stdout",
     "output_type": "stream",
     "text": [
      "[1, 4, 5, 3, 2]\n"
     ]
    }
   ],
   "source": [
    "#returning a newlist with  unique elements in first list \n",
    "list=[1,4,5,3,2,3,4,5,4]\n",
    "unique_list=[]\n",
    "for a in list:\n",
    "    if a not in unique_list:\n",
    "        unique_list.append(a)\n",
    "print(unique_list)"
   ]
  },
  {
   "cell_type": "code",
   "execution_count": 11,
   "metadata": {},
   "outputs": [
    {
     "name": "stdout",
     "output_type": "stream",
     "text": [
      "enter the sentenceHello welcome to the world\n",
      "hello welcome to the world\n",
      "number of vowels in given sentence is 8\n"
     ]
    }
   ],
   "source": [
    "#counting the vowels\n",
    "sentence=input(\"enter the sentence\")\n",
    "string=sentence.lower()\n",
    "print(string)\n",
    "count=0\n",
    "list1=[\"a\",\"e\",\"i\",\"o\",\"u\"]\n",
    "for char in string:\n",
    "    if char in list1:\n",
    "        count=count+1\n",
    "print(\"number of vowels in given sentence is\",count)"
   ]
  },
  {
   "cell_type": "code",
   "execution_count": 12,
   "metadata": {},
   "outputs": [
    {
     "name": "stdout",
     "output_type": "stream",
     "text": [
      "enter line of stringhello how are you all please\n",
      "largest string length 6\n"
     ]
    }
   ],
   "source": [
    "#largest string length\n",
    "na=input(\"enter line of string\")\n",
    "n=na.split()\n",
    "largest=len(n[0])\n",
    "for i in n:\n",
    "    if len(i)>largest:\n",
    "        largest=len(i)\n",
    "print(\"largest string length\",largest)"
   ]
  },
  {
   "cell_type": "code",
   "execution_count": 13,
   "metadata": {},
   "outputs": [
    {
     "name": "stdout",
     "output_type": "stream",
     "text": [
      "[1, 4, 5, 3, 2]\n"
     ]
    }
   ],
   "source": [
    "#unique list\n",
    "list=[1,4,5,3,2,3,4,5,4]\n",
    "unique_list=[]\n",
    "for a in list:\n",
    "    if a not in unique_list:\n",
    "        unique_list.append(a)\n",
    "print(unique_list)\n"
   ]
  },
  {
   "cell_type": "code",
   "execution_count": null,
   "metadata": {},
   "outputs": [],
   "source": []
  }
 ],
 "metadata": {
  "kernelspec": {
   "display_name": "Python 3",
   "language": "python",
   "name": "python3"
  },
  "language_info": {
   "codemirror_mode": {
    "name": "ipython",
    "version": 3
   },
   "file_extension": ".py",
   "mimetype": "text/x-python",
   "name": "python",
   "nbconvert_exporter": "python",
   "pygments_lexer": "ipython3",
   "version": "3.8.3"
  }
 },
 "nbformat": 4,
 "nbformat_minor": 4
}
