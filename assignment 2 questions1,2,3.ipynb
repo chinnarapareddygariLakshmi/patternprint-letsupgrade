{
 "cells": [
  {
   "cell_type": "code",
   "execution_count": 3,
   "metadata": {},
   "outputs": [
    {
     "name": "stdout",
     "output_type": "stream",
     "text": [
      "enter the number of elements in the list:7\n",
      "enter element1:20\n",
      "enter element2:10\n",
      "enter element3:20\n",
      "enter element4:30\n",
      "enter element5:40\n",
      "enter element6:40\n",
      "enter element7:50\n",
      "non-duplicate items :\n",
      "[20, 10, 30, 40, 50]\n"
     ]
    }
   ],
   "source": [
    "a=[]\n",
    "n=int(input(\"enter the number of elements in the list:\"))\n",
    "for x in range (0,n):\n",
    "    element=int(input(\"enter element\" + str(x+1) + \":\"))\n",
    "    a.append(element)\n",
    "b=set ()\n",
    "unique=[]\n",
    "for x in a:\n",
    "    if x not in b:\n",
    "        unique.append(x)\n",
    "        b.add(x)\n",
    "print(\"non-duplicate items :\")\n",
    "print(unique)"
   ]
  },
  {
   "cell_type": "code",
   "execution_count": 4,
   "metadata": {},
   "outputs": [
    {
     "name": "stdout",
     "output_type": "stream",
     "text": [
      "[11, 12, 13, 14]\n"
     ]
    }
   ],
   "source": [
    "list1=[11,12,13,14,13,25,25,35,40]\n",
    "list2=[25,40,35]\n",
    "def DiffVal(list1,list2):\n",
    "    return list(set(list1)-set(list2))\n",
    "finalval = DiffVal(list1,list2)\n",
    "print(finalval)"
   ]
  },
  {
   "cell_type": "code",
   "execution_count": 1,
   "metadata": {},
   "outputs": [
    {
     "name": "stdout",
     "output_type": "stream",
     "text": [
      "enter size of the list :5\n",
      "enter number5\n",
      "enter number10\n",
      "enter number5\n",
      "enter number10\n",
      "enter number3\n",
      "enter number to find frequency10\n",
      "frequency= 2\n"
     ]
    }
   ],
   "source": [
    "a=[]\n",
    "size=int(input(\"enter size of the list :\"))\n",
    "for i in range(size):\n",
    "    val=int(input(\"enter number\"))\n",
    "    a.append(val)\n",
    "key=int(input(\"enter number to find frequency\"))\n",
    "count=0\n",
    "for i in range(size):\n",
    "    if(a[i]==key):\n",
    "        count=count+1\n",
    "print(\"frequency=\",count)"
   ]
  },
  {
   "cell_type": "code",
   "execution_count": null,
   "metadata": {},
   "outputs": [],
   "source": []
  }
 ],
 "metadata": {
  "kernelspec": {
   "display_name": "Python 3",
   "language": "python",
   "name": "python3"
  },
  "language_info": {
   "codemirror_mode": {
    "name": "ipython",
    "version": 3
   },
   "file_extension": ".py",
   "mimetype": "text/x-python",
   "name": "python",
   "nbconvert_exporter": "python",
   "pygments_lexer": "ipython3",
   "version": "3.8.3"
  }
 },
 "nbformat": 4,
 "nbformat_minor": 4
}
