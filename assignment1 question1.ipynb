{
 "cells": [
  {
   "cell_type": "code",
   "execution_count": 5,
   "metadata": {},
   "outputs": [
    {
     "name": "stdout",
     "output_type": "stream",
     "text": [
      "enter number 5\n",
      "result is  21.0\n",
      "result is  45.0\n",
      "result is  -14.0\n"
     ]
    }
   ],
   "source": [
    "x= int(input(\"enter number \"))\n",
    "y1=(2*x+5/5*x+6)\n",
    "print(\"result is \",y1)\n",
    "y2=(5*x+6/2*x+5)\n",
    "print(\"result is \",y2)\n",
    "y3=(2*x-3/1*x-9)\n",
    "print(\"result is \",y3)"
   ]
  },
  {
   "cell_type": "code",
   "execution_count": 2,
   "metadata": {},
   "outputs": [
    {
     "name": "stdout",
     "output_type": "stream",
     "text": [
      "enter number 5\n",
      "result is  21.0\n",
      "result is  45.0\n",
      "result is  -14.0\n"
     ]
    }
   ],
   "source": [
    "\n",
    "x= int(input(\"enter number \"))\n",
    "y1=(2*x+5/5*x+6)\n",
    "print(\"result is \",y1)\n",
    "y2=(5*x+6/2*x+5)\n",
    "print(\"result is \",y2)\n",
    "y3=(2*x-3/1*x-9)\n",
    "print(\"result is \",y3)"
   ]
  },
  {
   "cell_type": "code",
   "execution_count": null,
   "metadata": {},
   "outputs": [],
   "source": []
  }
 ],
 "metadata": {
  "kernelspec": {
   "display_name": "Python 3",
   "language": "python",
   "name": "python3"
  },
  "language_info": {
   "codemirror_mode": {
    "name": "ipython",
    "version": 3
   },
   "file_extension": ".py",
   "mimetype": "text/x-python",
   "name": "python",
   "nbconvert_exporter": "python",
   "pygments_lexer": "ipython3",
   "version": "3.8.3"
  }
 },
 "nbformat": 4,
 "nbformat_minor": 4
}
