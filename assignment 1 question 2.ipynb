{
 "cells": [
  {
   "cell_type": "code",
   "execution_count": null,
   "metadata": {},
   "outputs": [
    {
     "name": "stdout",
     "output_type": "stream",
     "text": [
      "create a usernamejpotter\n",
      "create a passwordwe\n",
      "to run the program type run.\n",
      "enter your usernametoast\n",
      "enter your usernamegoat\n",
      "enter your usernamejpotter\n",
      "enter your passworddrink\n",
      "enter your passwordcat\n",
      "enter your passwordwe\n",
      "welcome back to your system! type run to start.\n",
      "what is your commandrandom\n",
      "what is your commandrun\n",
      "type in 0 for the calculation you dont want to do\n",
      "type in meters4\n",
      "type in feet0\n",
      "feet : 13.123359580052492\n"
     ]
    }
   ],
   "source": [
    "while 1==1:\n",
    "    name=input(\"create a username\")\n",
    "    password=input(\"create a password\")\n",
    "    print(\"to run the program type run.\")\n",
    "    command=None\n",
    "    input1=None\n",
    "    input2=None\n",
    "    while input1!=name:\n",
    "        input1=input(\"enter your username\")\n",
    "    while input2!=password:\n",
    "        input2=input(\"enter your password\")\n",
    "    print(\"welcome back to your system! type run to start.\")\n",
    "    while command!=\"run\":\n",
    "        command=input(\"what is your command\")\n",
    "    print(\"type in 0 for the calculation you dont want to do\")\n",
    "    meters=float(input(\"type in meters\"))\n",
    "    feet=float(input(\"type in feet\"))\n",
    "    if feet==0:\n",
    "        print(\"feet :\",meters/0.3048)\n",
    "    elif meters==0:\n",
    "        print(\"meters\",feet *0.3048)\n",
    "    "
   ]
  },
  {
   "cell_type": "code",
   "execution_count": null,
   "metadata": {},
   "outputs": [],
   "source": []
  },
  {
   "cell_type": "code",
   "execution_count": null,
   "metadata": {},
   "outputs": [],
   "source": []
  },
  {
   "cell_type": "code",
   "execution_count": null,
   "metadata": {},
   "outputs": [],
   "source": []
  },
  {
   "cell_type": "code",
   "execution_count": null,
   "metadata": {},
   "outputs": [],
   "source": []
  },
  {
   "cell_type": "code",
   "execution_count": null,
   "metadata": {},
   "outputs": [],
   "source": []
  }
 ],
 "metadata": {
  "kernelspec": {
   "display_name": "Python 3",
   "language": "python",
   "name": "python3"
  },
  "language_info": {
   "codemirror_mode": {
    "name": "ipython",
    "version": 3
   },
   "file_extension": ".py",
   "mimetype": "text/x-python",
   "name": "python",
   "nbconvert_exporter": "python",
   "pygments_lexer": "ipython3",
   "version": "3.8.3"
  }
 },
 "nbformat": 4,
 "nbformat_minor": 4
}
