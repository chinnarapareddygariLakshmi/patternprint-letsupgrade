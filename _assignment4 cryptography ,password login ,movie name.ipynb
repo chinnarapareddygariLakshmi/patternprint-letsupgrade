{
 "cells": [
  {
   "cell_type": "code",
   "execution_count": null,
   "metadata": {},
   "outputs": [],
   "source": [
    "from tkinter import *\n",
    "#import tkinter\n",
    "root=Tk()\n",
    "root.title(\"Cryptography App\")\n",
    "root.mainloop()\n",
    "l1=Label(root,text=\"Plain Text\")\n",
    "l1.grid(row=0,cloumn=0)\n",
    "l3=Label(root,texy=\"Encrypted Text\")\n",
    "l3.grid(row=0,column=2)\n",
    "var=StringVar()\n",
    "e1 = Entry(root,textvariable=var) \n",
    "e1.grid(row=0,column=1) \n",
    "var2= StringVar() \n",
    "e3 = Entry(root,textvariable=var2) \n",
    "e3.grid(row=0,column=3) \n",
    "l2 = Label(root,text=\"Encypted Text\") \n",
    "l2.grid(row=1,column=0) \n",
    "l4 = Label(root,text=\"Plain Text\") \n",
    "l4.grid(row=1,column=2) \n",
    "def encryptMessage(): \n",
    "    a = var.get() \n",
    "    #Ritesh \n",
    "    ct = onetimepad.encrypt(a,\"letupgrade\") \n",
    "    print(\"Working\",ct)  \n",
    "    e2.delete(0,END) \n",
    "    e2.insert(END,ct)\n",
    "def dycrptMessage(): \n",
    "    a = var2.get() \n",
    "    #Ritesh \n",
    "    ct = onetimepad.decrypt(a,\"letupgrade\") \n",
    "    print(\"Working\",ct)  \n",
    "    e4.delete(0,END) \n",
    "    e4.insert(END,ct)\n",
    "    "
   ]
  },
  {
   "cell_type": "code",
   "execution_count": 5,
   "metadata": {},
   "outputs": [
    {
     "name": "stdout",
     "output_type": "stream",
     "text": [
      "working\n"
     ]
    }
   ],
   "source": []
  },
  {
   "cell_type": "code",
   "execution_count": null,
   "metadata": {},
   "outputs": [],
   "source": [
    "import smtplib\n",
    "sender_email =\"12northolt@gmail.com\"\n",
    "rec_email=\"johangodinho69@gmail.com\"\n",
    "password=input(str(\"please enter your password \"))\n",
    "message=\"hey,this was sent using python\"\n",
    "server=smtplib.SMTP('smtp.gmail.com',587)\n",
    "server.starttls()\n",
    "server.login(sender_email,password)\n",
    "print(\"login success\")\n",
    "server.sendmail(sender_email,rec_email,message)\n",
    "print(\"email has been sent to\",rec_email)\n"
   ]
  },
  {
   "cell_type": "code",
   "execution_count": null,
   "metadata": {},
   "outputs": [],
   "source": [
    "import firebase_admin \n",
    "from firebase_admin import credentials \n",
    "cred = credentials.Certificate(\"my-project.json\") \n",
    "firebase_admin.initialize_app(cred) \n",
    "print(\"Working\") \n",
    "db = firestore.client() \n",
    "doc_ref = db.collection(\"movies\").document(\"Bollywood\") \n",
    "data = {\"Name\":[\"war\",\"kgf\",\"3-idiot\",\"family-man\",\"dangal\"], \n",
    "       \"collection\":[400,500,200,100,600]} \n",
    "doc_ref.set(data) \n",
    "print(\"done\") \n",
    "db = firestore.client() \n",
    "docs = db.collection(\"movies\").stream() \n",
    "for d in docs: \n",
    "    #print(d.to_dict()) \n",
    "    database = d.to_dict()  \n",
    "d = database[\"Name\"] \n",
    "import random \n",
    "movie = database[\"Name\"] \n",
    "player = input(\"Write your Name: \") \n",
    "print(\"Guess the character: \") \n",
    "print(\"You have 10 chance to get the movie name: \") \n",
    "print(\"Best of luck!\",player) \n",
    "count = 10 \n",
    "geuss= \"\" \n",
    "word = random.choice(movie) #war \n",
    "while count>0: \n",
    "    fail = 0 \n",
    "    for char in word: \n",
    "        if char in geuss: \n",
    "            print(char) \n",
    "        else: \n",
    "            print(\"_\") \n",
    "            fail+=1            \n",
    "    if fail==0: \n",
    "        print(\"Congratulation you won!!!\") \n",
    "        print(\"Movie Name was:\",word) \n",
    "        break       \n",
    "    g = input(\"Enter your character: \") \n",
    "    geuss = geuss+g  \n",
    "    if g not in word: \n",
    "        count = count-1 \n",
    "        print(\"Wrong Answer:(\") \n",
    "        \n",
    "        print(\"You have \",count,\"more geusses\") "
   ]
  }
 ],
 "metadata": {
  "kernelspec": {
   "display_name": "Python 3",
   "language": "python",
   "name": "python3"
  },
  "language_info": {
   "codemirror_mode": {
    "name": "ipython",
    "version": 3
   },
   "file_extension": ".py",
   "mimetype": "text/x-python",
   "name": "python",
   "nbconvert_exporter": "python",
   "pygments_lexer": "ipython3",
   "version": "3.8.3"
  }
 },
 "nbformat": 4,
 "nbformat_minor": 4
}
